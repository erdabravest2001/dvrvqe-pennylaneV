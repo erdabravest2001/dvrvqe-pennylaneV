{
 "cells": [
  {
   "cell_type": "code",
   "execution_count": 1,
   "metadata": {},
   "outputs": [],
   "source": [
    "import pennylane as qml \n",
    "from pennylane import numpy as np\n",
    "\n",
    "# import all the functions from the modules\n",
    "from lpenny.dvr_hamiltonian_gen_I import * \n",
    "from lpenny.dvr_hamiltonian_gen_II import *\n",
    "from lpenny.dvr_vqe import *\n",
    "from lpenny.greedy_search_algorithm import * \n",
    "from lpenny.pot_gen_1d import *\n",
    "from lpenny.pot_gen_2d import *"
   ]
  },
  {
   "cell_type": "code",
   "execution_count": 4,
   "metadata": {},
   "outputs": [
    {
     "name": "stdout",
     "output_type": "stream",
     "text": [
      "[ 2.6  2.8  3.   3.1  3.2  3.3  3.4  3.5  3.6  3.8  4.   4.4  4.8  5.2\n",
      "  5.6  6.   6.4  6.8  7.2  7.6  8.   9.  10.  11.  12.  13.  14.  15.\n",
      " 16.  17.  18.  19.  20.  22.  24.  28.  32.  36.  40. ]\n"
     ]
    },
    {
     "ename": "QuantumFunctionError",
     "evalue": "Invalid device. Device must be a valid PennyLane device.",
     "output_type": "error",
     "traceback": [
      "\u001b[0;31m---------------------------------------------------------------------------\u001b[0m",
      "\u001b[0;31mQuantumFunctionError\u001b[0m                      Traceback (most recent call last)",
      "Cell \u001b[0;32mIn[4], line 21\u001b[0m\n\u001b[1;32m     17\u001b[0m params \u001b[38;5;241m=\u001b[39m [\u001b[38;5;241m7.54029847\u001b[39m,  \u001b[38;5;241m2.32973712\u001b[39m, \u001b[38;5;241m4.16465528\u001b[39m, \u001b[38;5;241m2.93240341\u001b[39m, \u001b[38;5;241m-\u001b[39m\u001b[38;5;241m3.18132556\u001b[39m,  \u001b[38;5;241m6.39754618\u001b[39m, \u001b[38;5;241m4.92988485\u001b[39m,  \u001b[38;5;241m2.97029896\u001b[39m, \u001b[38;5;241m-\u001b[39m\u001b[38;5;241m4.64164573\u001b[39m,  \u001b[38;5;241m1.11399732\u001b[39m, \u001b[38;5;241m-\u001b[39m\u001b[38;5;241m1.17733492\u001b[39m]\n\u001b[1;32m     20\u001b[0m \u001b[38;5;66;03m# Define the quantum circuit with the parameters  \u001b[39;00m\n\u001b[0;32m---> 21\u001b[0m \u001b[38;5;129m@qml\u001b[39m\u001b[38;5;241m.\u001b[39mqnode(device_arn)\n\u001b[1;32m     22\u001b[0m \u001b[38;5;28;01mdef\u001b[39;00m \u001b[38;5;21mcircuit\u001b[39m(params): \n\u001b[1;32m     23\u001b[0m     \u001b[38;5;28;01mfor\u001b[39;00m i \u001b[38;5;129;01min\u001b[39;00m \u001b[38;5;28mrange\u001b[39m(\u001b[38;5;241m5\u001b[39m):\n\u001b[1;32m     24\u001b[0m         qml\u001b[38;5;241m.\u001b[39mSX(wires\u001b[38;5;241m=\u001b[39mi)\n",
      "File \u001b[0;32m~/anaconda3/lib/python3.11/site-packages/pennylane/qnode.py:427\u001b[0m, in \u001b[0;36mQNode.__init__\u001b[0;34m(self, func, device, interface, diff_method, expansion_strategy, max_expansion, grad_on_execution, cache, cachesize, max_diff, device_vjp, **gradient_kwargs)\u001b[0m\n\u001b[1;32m    421\u001b[0m     \u001b[38;5;28;01mraise\u001b[39;00m qml\u001b[38;5;241m.\u001b[39mQuantumFunctionError(\n\u001b[1;32m    422\u001b[0m         \u001b[38;5;124mf\u001b[39m\u001b[38;5;124m\"\u001b[39m\u001b[38;5;124mUnknown interface \u001b[39m\u001b[38;5;132;01m{\u001b[39;00minterface\u001b[38;5;132;01m}\u001b[39;00m\u001b[38;5;124m. Interface must be \u001b[39m\u001b[38;5;124m\"\u001b[39m\n\u001b[1;32m    423\u001b[0m         \u001b[38;5;124mf\u001b[39m\u001b[38;5;124m\"\u001b[39m\u001b[38;5;124mone of \u001b[39m\u001b[38;5;132;01m{\u001b[39;00mSUPPORTED_INTERFACES\u001b[38;5;132;01m}\u001b[39;00m\u001b[38;5;124m.\u001b[39m\u001b[38;5;124m\"\u001b[39m\n\u001b[1;32m    424\u001b[0m     )\n\u001b[1;32m    426\u001b[0m \u001b[38;5;28;01mif\u001b[39;00m \u001b[38;5;129;01mnot\u001b[39;00m \u001b[38;5;28misinstance\u001b[39m(device, (Device, qml\u001b[38;5;241m.\u001b[39mdevices\u001b[38;5;241m.\u001b[39mDevice)):\n\u001b[0;32m--> 427\u001b[0m     \u001b[38;5;28;01mraise\u001b[39;00m qml\u001b[38;5;241m.\u001b[39mQuantumFunctionError(\n\u001b[1;32m    428\u001b[0m         \u001b[38;5;124m\"\u001b[39m\u001b[38;5;124mInvalid device. Device must be a valid PennyLane device.\u001b[39m\u001b[38;5;124m\"\u001b[39m\n\u001b[1;32m    429\u001b[0m     )\n\u001b[1;32m    431\u001b[0m \u001b[38;5;28;01mif\u001b[39;00m \u001b[38;5;124m\"\u001b[39m\u001b[38;5;124mshots\u001b[39m\u001b[38;5;124m\"\u001b[39m \u001b[38;5;129;01min\u001b[39;00m inspect\u001b[38;5;241m.\u001b[39msignature(func)\u001b[38;5;241m.\u001b[39mparameters:\n\u001b[1;32m    432\u001b[0m     warnings\u001b[38;5;241m.\u001b[39mwarn(\n\u001b[1;32m    433\u001b[0m         \u001b[38;5;124m\"\u001b[39m\u001b[38;5;124mDetected \u001b[39m\u001b[38;5;124m'\u001b[39m\u001b[38;5;124mshots\u001b[39m\u001b[38;5;124m'\u001b[39m\u001b[38;5;124m as an argument to the given quantum function. \u001b[39m\u001b[38;5;124m\"\u001b[39m\n\u001b[1;32m    434\u001b[0m         \u001b[38;5;124m\"\u001b[39m\u001b[38;5;124mThe \u001b[39m\u001b[38;5;124m'\u001b[39m\u001b[38;5;124mshots\u001b[39m\u001b[38;5;124m'\u001b[39m\u001b[38;5;124m argument name is reserved for overriding the number of shots \u001b[39m\u001b[38;5;124m\"\u001b[39m\n\u001b[1;32m    435\u001b[0m         \u001b[38;5;124m\"\u001b[39m\u001b[38;5;124mtaken by the device. Its use outside of this context should be avoided.\u001b[39m\u001b[38;5;124m\"\u001b[39m,\n\u001b[1;32m    436\u001b[0m         \u001b[38;5;167;01mUserWarning\u001b[39;00m,\n\u001b[1;32m    437\u001b[0m     )\n",
      "\u001b[0;31mQuantumFunctionError\u001b[0m: Invalid device. Device must be a valid PennyLane device."
     ]
    }
   ],
   "source": [
    "from braket.devices import Devices\n",
    "device_arn = Devices._OQC.Lucy\n",
    "s3 = (\"erdabravest-2005\", \"dvr-vqe\")\n",
    "mol_params = cr2_params\n",
    "params = [2.8, 4.0]\n",
    "N = 5\n",
    "spin = 1\n",
    "\n",
    "dvr_options = { 'type': '1d',\n",
    "        'box_lims': (params[0], params[1]),\n",
    "        'dx': (params[1] - params[0]) / (2**N),\n",
    "        'count':(2**N)\n",
    "        } \n",
    "\n",
    "h_dvr =  gen_ham(mol_params, spin, dvr_options)\n",
    "h_dvr_p = qml.pauli_decompose(h_dvr)\n",
    "params = [7.54029847,  2.32973712, 4.16465528, 2.93240341, -3.18132556,  6.39754618, 4.92988485,  2.97029896, -4.64164573,  1.11399732, -1.17733492]\n",
    "\n",
    "\n",
    "# Define the quantum circuit with the parameters  \n",
    "@hybrid_job(device=device_arn)\n",
    "def circuit(params): \n",
    "    for i in range(5):\n",
    "        qml.SX(wires=i)\n",
    "        qml.RZ(params[i], wires=i)\n",
    "    qml.SX(wires=0)\n",
    "    qml.ECR(wires=[2,1])\n",
    "    qml.SX(wires=2)\n",
    "    qml.SX(wires=3)\n",
    "    qml.SX(wires=4)\n",
    "    qml.SX(wires=1)\n",
    "    qml.RZ(params[5], wires=2)\n",
    "    qml.RZ(params[6], wires=4)\n",
    "    qml.RZ(params[7], wires=1)\n",
    "    qml.ECR(wires=[3, 2])\n",
    "    qml.RZ(params[10], wires=0)\n",
    "    qml.ECR(wires=[1, 0])\n",
    "    qml.SX(wires=2)\n",
    "    qml.RZ(params[8], wires=3)\n",
    "    qml.SX(wires=1)\n",
    "    qml.RZ(params[9], wires=2)\n",
    "    qml.SX(wires=3)\n",
    "    qml.ECR(wires=[4, 3])\n",
    "    return qml.expval(h_dvr_p)"
   ]
  }
 ],
 "metadata": {
  "kernelspec": {
   "display_name": "base",
   "language": "python",
   "name": "python3"
  },
  "language_info": {
   "codemirror_mode": {
    "name": "ipython",
    "version": 3
   },
   "file_extension": ".py",
   "mimetype": "text/x-python",
   "name": "python",
   "nbconvert_exporter": "python",
   "pygments_lexer": "ipython3",
   "version": "3.11.5"
  }
 },
 "nbformat": 4,
 "nbformat_minor": 2
}
