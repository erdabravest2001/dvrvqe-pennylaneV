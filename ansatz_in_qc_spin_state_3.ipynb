{
 "cells": [
  {
   "cell_type": "code",
   "execution_count": 1,
   "metadata": {},
   "outputs": [],
   "source": [
    "import pennylane as qml \n",
    "from pennylane import numpy as np\n",
    "\n",
    "# import all the functions from the modules\n",
    "from lpenny.dvr_hamiltonian_gen_I import * \n",
    "from lpenny.dvr_hamiltonian_gen_II import *\n",
    "from lpenny.dvr_vqe import *\n",
    "from lpenny.greedy_search_algorithm import * \n",
    "from lpenny.pot_gen_1d import *\n",
    "from lpenny.pot_gen_2d import *"
   ]
  },
  {
   "cell_type": "code",
   "execution_count": null,
   "metadata": {},
   "outputs": [],
   "source": [
    "device_arn = \"arn:aws:braket:eu-west-2::device/qpu/oqc/Lucy\"\n",
    "dev_remote = qml.device(\"braket.aws.ahs\", device_arn, wires=5) \n",
    "mol_params = cr2_params\n",
    "params2 = [3.2, 4.5]\n",
    "N = 5\n",
    "spin2 = 3\n",
    "\n",
    "dvr_options2 = { 'type': '1d',\n",
    "        'box_lims': (params2[0], params2[1]),\n",
    "        'dx': (params2[1] - params2[0]) / (2**N),\n",
    "        'count':(2**N)\n",
    "        } \n",
    "\n",
    "h_dvr2 =  gen_ham(mol_params, spin2, dvr_options2)\n",
    "h_dvr_p2 = qml.pauli_decompose(h_dvr2)\n",
    "print(h_dvr_p2)\n",
    "# Define the quantum circuit with the parameters  \n",
    "@qml.qnode(dev_remote)\n",
    "def circuit(): \n",
    "    qml.\n",
    "    return qml.expval(h_dvr_p2)"
   ]
  }
 ],
 "metadata": {
  "kernelspec": {
   "display_name": "base",
   "language": "python",
   "name": "python3"
  },
  "language_info": {
   "codemirror_mode": {
    "name": "ipython",
    "version": 3
   },
   "file_extension": ".py",
   "mimetype": "text/x-python",
   "name": "python",
   "nbconvert_exporter": "python",
   "pygments_lexer": "ipython3",
   "version": "3.11.5"
  }
 },
 "nbformat": 4,
 "nbformat_minor": 2
}
